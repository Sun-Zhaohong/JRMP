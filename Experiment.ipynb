{
 "cells": [
  {
   "cell_type": "code",
   "execution_count": 1,
   "metadata": {},
   "outputs": [],
   "source": [
    "# version 2020.08.03\n",
    "import numpy as np\n",
    "import sys\n",
    "from class_market import *"
   ]
  },
  {
   "cell_type": "markdown",
   "metadata": {},
   "source": [
    "## Parameters: \n",
    "\n",
    "- **Number of Experiments**: `number_experiments` \n",
    "\n",
    "\n",
    "- **Numbers of agents**: `number_doctors`, `number_hospitals`, `number_regions` \n",
    "\n",
    "\n",
    "- **Quota factors**: `hos_factor`, `cap_factor`, `reg_factor`\n",
    "\n",
    "\n",
    "- **Mallow model parameters (between 0 and 1)**: `mallow_para_doctor`, `mallow_para_hospital`, `mallow_para_region`\n",
    "\n",
    "\n",
    "- **Display_bool**: `display_algorithm`, `display_outcome`"
   ]
  },
  {
   "cell_type": "code",
   "execution_count": 2,
   "metadata": {},
   "outputs": [],
   "source": [
    "##############################################################################\n",
    "# Number of Experiments:\n",
    "number_experiments = 50\n",
    "\n",
    "##############################################################################\n",
    "# Numbers of agents:\n",
    "number_doctors, number_hospitals, number_regions = 200, 10, 2\n",
    "\n",
    "##############################################################################\n",
    "# Quota factors:\n",
    "hos_factor, cap_factor, reg_factor= 1.2, 1.0, 1.1\n",
    "\n",
    "##############################################################################\n",
    "# Mallow model parameters:\n",
    "mallow_para_doctor, mallow_para_hospital, mallow_para_region = 0.8, 0.8, 0.8\n",
    "\n",
    "##############################################################################\n",
    "# Print the detailed procedures of algorithms / outcomes\n",
    "display_algorithm, display_outcome = False, False\n"
   ]
  },
  {
   "cell_type": "code",
   "execution_count": 3,
   "metadata": {},
   "outputs": [],
   "source": [
    "##############################################################################\n",
    "# store all parameters in a dicitionary\n",
    "\n",
    "parameters ={\n",
    "    \"number_experiments\" : number_experiments,\n",
    "    \"number_hospitals\" : number_hospitals,\n",
    "    \"hos_factor\" : hos_factor,\n",
    "    \"cap_factor\" : cap_factor,\n",
    "    \"reg_factor\" : reg_factor,\n",
    "    \"mallow_para_doctor\" : mallow_para_doctor,\n",
    "    \"mallow_para_hospital\" : mallow_para_hospital,\n",
    "    \"mallow_para_region\" : mallow_para_region\n",
    "}\n"
   ]
  },
  {
   "cell_type": "markdown",
   "metadata": {},
   "source": [
    "## Algorithm"
   ]
  },
  {
   "cell_type": "code",
   "execution_count": 4,
   "metadata": {},
   "outputs": [],
   "source": [
    "##############################################################################\n",
    "# Store a list of outcomes\n",
    "list_outcomes = []\n",
    "\n",
    "current_experiment = 0\n",
    "\n",
    "while current_experiment < number_experiments:\n",
    "    \n",
    "    current_experiment += 1\n",
    "\n",
    "    # Create one outcome instance\n",
    "    outcome = Outcome(current_experiment)\n",
    "\n",
    "    ##############################################################################\n",
    "    # Initialization\n",
    "    ##############################################################################\n",
    "    \n",
    "    # Create a set of doctors, hospitals, regions\n",
    "    market = Market(number_doctors, number_hospitals, number_regions)\n",
    "    \n",
    "    # Create a set of contracts\n",
    "    market.create_list_contracts()\n",
    "    \n",
    "    # Set quotas for hospitals and regions\n",
    "    market.set_quotas_for_hospitals_and_regions(hos_factor, cap_factor, reg_factor)\n",
    "    \n",
    "    # create preference & priority profile\n",
    "    market.create_preference_and_priority_profile(mallow_para_doctor, mallow_para_hospital, mallow_para_region)\n",
    "    \n",
    "    ##############################################################################\n",
    "    # Algorithm\n",
    "    ##############################################################################    \n",
    "\n",
    "    # GDA_RH \n",
    "    market.GDA_RH(display_algorithm)\n",
    "    outcome.set_doctors_and_hospitals_final_pos(market.get_list_doctors(), market.get_list_hospitals(), \"GDA-RH\")\n",
    "    \n",
    "    # GDA_RO \n",
    "    market.GDA_RO(display_algorithm)\n",
    "    outcome.set_doctors_and_hospitals_final_pos(market.get_list_doctors(), market.get_list_hospitals(), \"GDA-RO\")\n",
    "\n",
    "    # ADA  \n",
    "    market.ADA(display_algorithm)\n",
    "    outcome.set_doctors_and_hospitals_final_pos(market.get_list_doctors(), market.get_list_hospitals(), \"ADA\")\n",
    "    \n",
    "    ##############################################################################\n",
    "    # Outcome\n",
    "    ##############################################################################     \n",
    "    # add current outcome to list_outcomes\n",
    "    list_outcomes.append(outcome)\n",
    "    \n",
    "    if display_outcome:\n",
    "        print(\"*\" * 20, \"Doctors' Final Ranking of Experiment\", outcome.get_outcome_id(), \"*\" * 20)\n",
    "        print(\"GDA-RH\", outcome.get_doctors_percentage(number_hospitals, \"GDA-RH\"))\n",
    "        print(\"GDA-RO\", outcome.get_doctors_percentage(number_hospitals, \"GDA-RO\"))\n",
    "        print(\"ADA   \", outcome.get_doctors_percentage(number_hospitals, \"ADA\"))\n"
   ]
  },
  {
   "cell_type": "markdown",
   "metadata": {},
   "source": [
    "## Experimental Results"
   ]
  },
  {
   "cell_type": "code",
   "execution_count": 5,
   "metadata": {},
   "outputs": [
    {
     "name": "stdout",
     "output_type": "stream",
     "text": [
      "hos_factor 2.0 cap_factor 1.1 reg_factor 1.1 mallow_doctor 0.8 mallow_hospital 0.8 mallow_region 0.8\n",
      "GDA-RH [178.75, 197.1, 199.55, 199.9, 200.0, 200.0, 200.0, 200.0, 200.0, 200.0]\n",
      "GDA-RO [178.7, 196.65, 199.45, 199.9, 200.0, 200.0, 200.0, 200.0, 200.0, 200.0]\n",
      "ADA    [146.25, 174.35, 187.75, 194.35, 197.7, 199.45, 200.0, 200.0, 200.0, 200.0]\n"
     ]
    }
   ],
   "source": [
    "##############################################################################\n",
    "# print and store the average results\n",
    "##############################################################################\n",
    "func.average_welfare_docotrs(list_outcomes, parameters)\n"
   ]
  }
 ],
 "metadata": {
  "kernelspec": {
   "display_name": "Python 3",
   "language": "python",
   "name": "python3"
  },
  "language_info": {
   "codemirror_mode": {
    "name": "ipython",
    "version": 3
   },
   "file_extension": ".py",
   "mimetype": "text/x-python",
   "name": "python",
   "nbconvert_exporter": "python",
   "pygments_lexer": "ipython3",
   "version": "3.8.3"
  }
 },
 "nbformat": 4,
 "nbformat_minor": 4
}
